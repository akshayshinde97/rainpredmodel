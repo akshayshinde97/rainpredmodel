{
 "cells": [
  {
   "cell_type": "code",
   "execution_count": 1,
   "metadata": {},
   "outputs": [],
   "source": [
    "import numpy as np \n",
    "import pandas as pd \n",
    "import matplotlib.pyplot as plt"
   ]
  },
  {
   "cell_type": "code",
   "execution_count": 2,
   "metadata": {},
   "outputs": [],
   "source": [
    "wr=pd.read_csv('RAINVSWIND.csv')\n",
    "rt=pd.read_csv('RAINVSTEMP.csv')"
   ]
  },
  {
   "cell_type": "code",
   "execution_count": 3,
   "metadata": {},
   "outputs": [
    {
     "data": {
      "text/html": [
       "<div>\n",
       "<style scoped>\n",
       "    .dataframe tbody tr th:only-of-type {\n",
       "        vertical-align: middle;\n",
       "    }\n",
       "\n",
       "    .dataframe tbody tr th {\n",
       "        vertical-align: top;\n",
       "    }\n",
       "\n",
       "    .dataframe thead th {\n",
       "        text-align: right;\n",
       "    }\n",
       "</style>\n",
       "<table border=\"1\" class=\"dataframe\">\n",
       "  <thead>\n",
       "    <tr style=\"text-align: right;\">\n",
       "      <th></th>\n",
       "      <th>YEAR</th>\n",
       "      <th>MONTH</th>\n",
       "      <th>RAINFALL</th>\n",
       "      <th>U10</th>\n",
       "      <th>V10</th>\n",
       "      <th>U100</th>\n",
       "      <th>V100</th>\n",
       "    </tr>\n",
       "  </thead>\n",
       "  <tbody>\n",
       "    <tr>\n",
       "      <td>0</td>\n",
       "      <td>2012</td>\n",
       "      <td>1</td>\n",
       "      <td>27.485714</td>\n",
       "      <td>0.279592</td>\n",
       "      <td>1.238989</td>\n",
       "      <td>0.272449</td>\n",
       "      <td>1.860596</td>\n",
       "    </tr>\n",
       "    <tr>\n",
       "      <td>1</td>\n",
       "      <td>2012</td>\n",
       "      <td>2</td>\n",
       "      <td>9.663889</td>\n",
       "      <td>-0.454811</td>\n",
       "      <td>1.084488</td>\n",
       "      <td>-0.893614</td>\n",
       "      <td>1.603870</td>\n",
       "    </tr>\n",
       "    <tr>\n",
       "      <td>2</td>\n",
       "      <td>2012</td>\n",
       "      <td>3</td>\n",
       "      <td>11.891667</td>\n",
       "      <td>0.340606</td>\n",
       "      <td>-0.250896</td>\n",
       "      <td>0.452125</td>\n",
       "      <td>-0.557075</td>\n",
       "    </tr>\n",
       "    <tr>\n",
       "      <td>3</td>\n",
       "      <td>2012</td>\n",
       "      <td>4</td>\n",
       "      <td>58.241667</td>\n",
       "      <td>0.662720</td>\n",
       "      <td>-0.209927</td>\n",
       "      <td>1.117597</td>\n",
       "      <td>-0.400126</td>\n",
       "    </tr>\n",
       "    <tr>\n",
       "      <td>4</td>\n",
       "      <td>2012</td>\n",
       "      <td>5</td>\n",
       "      <td>50.244444</td>\n",
       "      <td>1.056094</td>\n",
       "      <td>-0.612462</td>\n",
       "      <td>1.892238</td>\n",
       "      <td>-1.113780</td>\n",
       "    </tr>\n",
       "    <tr>\n",
       "      <td>5</td>\n",
       "      <td>2012</td>\n",
       "      <td>6</td>\n",
       "      <td>183.308333</td>\n",
       "      <td>0.316069</td>\n",
       "      <td>-0.351939</td>\n",
       "      <td>0.544246</td>\n",
       "      <td>-0.655908</td>\n",
       "    </tr>\n",
       "    <tr>\n",
       "      <td>6</td>\n",
       "      <td>2012</td>\n",
       "      <td>7</td>\n",
       "      <td>295.347222</td>\n",
       "      <td>1.078815</td>\n",
       "      <td>-1.660688</td>\n",
       "      <td>2.014828</td>\n",
       "      <td>-2.895490</td>\n",
       "    </tr>\n",
       "    <tr>\n",
       "      <td>7</td>\n",
       "      <td>2012</td>\n",
       "      <td>8</td>\n",
       "      <td>296.505556</td>\n",
       "      <td>2.661465</td>\n",
       "      <td>-1.856522</td>\n",
       "      <td>4.692012</td>\n",
       "      <td>-3.146179</td>\n",
       "    </tr>\n",
       "    <tr>\n",
       "      <td>8</td>\n",
       "      <td>2012</td>\n",
       "      <td>9</td>\n",
       "      <td>234.808333</td>\n",
       "      <td>1.904216</td>\n",
       "      <td>-1.524396</td>\n",
       "      <td>3.300800</td>\n",
       "      <td>-2.719489</td>\n",
       "    </tr>\n",
       "    <tr>\n",
       "      <td>9</td>\n",
       "      <td>2012</td>\n",
       "      <td>10</td>\n",
       "      <td>76.627778</td>\n",
       "      <td>1.887336</td>\n",
       "      <td>-0.140126</td>\n",
       "      <td>3.198832</td>\n",
       "      <td>-0.367730</td>\n",
       "    </tr>\n",
       "    <tr>\n",
       "      <td>10</td>\n",
       "      <td>2012</td>\n",
       "      <td>11</td>\n",
       "      <td>38.755556</td>\n",
       "      <td>0.268525</td>\n",
       "      <td>1.133367</td>\n",
       "      <td>0.289963</td>\n",
       "      <td>1.675825</td>\n",
       "    </tr>\n",
       "    <tr>\n",
       "      <td>11</td>\n",
       "      <td>2012</td>\n",
       "      <td>12</td>\n",
       "      <td>13.538889</td>\n",
       "      <td>1.252028</td>\n",
       "      <td>0.758622</td>\n",
       "      <td>1.852399</td>\n",
       "      <td>1.030751</td>\n",
       "    </tr>\n",
       "  </tbody>\n",
       "</table>\n",
       "</div>"
      ],
      "text/plain": [
       "    YEAR  MONTH    RAINFALL       U10       V10      U100      V100\n",
       "0   2012      1   27.485714  0.279592  1.238989  0.272449  1.860596\n",
       "1   2012      2    9.663889 -0.454811  1.084488 -0.893614  1.603870\n",
       "2   2012      3   11.891667  0.340606 -0.250896  0.452125 -0.557075\n",
       "3   2012      4   58.241667  0.662720 -0.209927  1.117597 -0.400126\n",
       "4   2012      5   50.244444  1.056094 -0.612462  1.892238 -1.113780\n",
       "5   2012      6  183.308333  0.316069 -0.351939  0.544246 -0.655908\n",
       "6   2012      7  295.347222  1.078815 -1.660688  2.014828 -2.895490\n",
       "7   2012      8  296.505556  2.661465 -1.856522  4.692012 -3.146179\n",
       "8   2012      9  234.808333  1.904216 -1.524396  3.300800 -2.719489\n",
       "9   2012     10   76.627778  1.887336 -0.140126  3.198832 -0.367730\n",
       "10  2012     11   38.755556  0.268525  1.133367  0.289963  1.675825\n",
       "11  2012     12   13.538889  1.252028  0.758622  1.852399  1.030751"
      ]
     },
     "execution_count": 3,
     "metadata": {},
     "output_type": "execute_result"
    }
   ],
   "source": [
    "wr      "
   ]
  },
  {
   "cell_type": "code",
   "execution_count": 4,
   "metadata": {},
   "outputs": [],
   "source": [
    "wr1=wr.drop(['YEAR','MONTH'],axis=1)"
   ]
  },
  {
   "cell_type": "markdown",
   "metadata": {},
   "source": [
    "## Comparison of behaviour between  Rainfall vs wind  during 2012"
   ]
  },
  {
   "cell_type": "code",
   "execution_count": 25,
   "metadata": {},
   "outputs": [
    {
     "data": {
      "image/png": "[encoded data removed]",
      "text/plain": [
       "<Figure size 432x288 with 1 Axes>"
      ]
     },
     "metadata": {
      "needs_background": "light"
     },
     "output_type": "display_data"
    }
   ],
   "source": [
    "plt.bar(wr['U100'], wr['RAINFALL']) \n",
    "plt.xlabel(\"U100\") \n",
    "plt.ylabel(\"RAINFALL\") \n",
    "plt.show() "
   ]
  },
  {
   "cell_type": "code",
   "execution_count": 7,
   "metadata": {},
   "outputs": [
    {
     "data": {
      "image/png": "[encoded data removed]",
      "text/plain": [
       "<Figure size 432x288 with 1 Axes>"
      ]
     },
     "metadata": {
      "needs_background": "light"
     },
     "output_type": "display_data"
    }
   ],
   "source": [
    "plt.bar(wr['V100'], wr['RAINFALL']) \n",
    "plt.xlabel(\"V100\") \n",
    "plt.ylabel(\"RAINFALL\") \n",
    "plt.show() "
   ]
  },
  {
   "cell_type": "code",
   "execution_count": 8,
   "metadata": {},
   "outputs": [
    {
     "data": {
      "image/png": "[encoded data removed]",
      "text/plain": [
       "<Figure size 432x288 with 1 Axes>"
      ]
     },
     "metadata": {
      "needs_background": "light"
     },
     "output_type": "display_data"
    }
   ],
   "source": [
    "plt.scatter(wr['V100'], wr['RAINFALL']) \n",
    "plt.show() "
   ]
  },
  {
   "cell_type": "code",
   "execution_count": 9,
   "metadata": {},
   "outputs": [
    {
     "data": {
      "image/png": "[encoded data removed]",
      "text/plain": [
       "<Figure size 432x288 with 1 Axes>"
      ]
     },
     "metadata": {
      "needs_background": "light"
     },
     "output_type": "display_data"
    }
   ],
   "source": [
    "plt.scatter(wr['U100'], wr['RAINFALL']) \n",
    "plt.show() "
   ]
  },
  {
   "cell_type": "code",
   "execution_count": 10,
   "metadata": {},
   "outputs": [
    {
     "data": {
      "image/png": "[encoded data removed]",
      "text/plain": [
       "<Figure size 432x288 with 1 Axes>"
      ]
     },
     "metadata": {
      "needs_background": "light"
     },
     "output_type": "display_data"
    }
   ],
   "source": [
    " plt.bar(wr['MONTH'], wr['RAINFALL']) \n",
    "plt.xlabel(\"MONTH\") \n",
    "plt.ylabel(\"RAINFALL\") \n",
    "plt.show() "
   ]
  },
  {
   "cell_type": "code",
   "execution_count": 11,
   "metadata": {},
   "outputs": [
    {
     "data": {
      "image/png": "[encoded data removed]",
      "text/plain": [
       "<Figure size 432x288 with 1 Axes>"
      ]
     },
     "metadata": {
      "needs_background": "light"
     },
     "output_type": "display_data"
    }
   ],
   "source": [
    " plt.bar(wr['MONTH'], wr['U100']) \n",
    "plt.xlabel(\"MONTH\") \n",
    "plt.ylabel(\"RAINFALL\") \n",
    "plt.show()"
   ]
  },
  {
   "cell_type": "code",
   "execution_count": 12,
   "metadata": {},
   "outputs": [
    {
     "data": {
      "image/png": "[encoded data removed]",
      "text/plain": [
       "<Figure size 432x288 with 1 Axes>"
      ]
     },
     "metadata": {
      "needs_background": "light"
     },
     "output_type": "display_data"
    }
   ],
   "source": [
    " plt.bar(wr['MONTH'], wr['V100']) \n",
    "plt.xlabel(\"MONTH\") \n",
    "plt.ylabel(\"V100\") \n",
    "plt.show()"
   ]
  },
  {
   "cell_type": "code",
   "execution_count": 23,
   "metadata": {},
   "outputs": [
    {
     "data": {
      "image/png": "[encoded data removed]",
      "text/plain": [
       "<Figure size 432x288 with 6 Axes>"
      ]
     },
     "metadata": {
      "needs_background": "light"
     },
     "output_type": "display_data"
    },
    {
     "data": {
      "text/plain": [
       "<Figure size 1800x1800 with 0 Axes>"
      ]
     },
     "execution_count": 23,
     "metadata": {},
     "output_type": "execute_result"
    },
    {
     "data": {
      "text/plain": [
       "<Figure size 1800x1800 with 0 Axes>"
      ]
     },
     "metadata": {},
     "output_type": "display_data"
    }
   ],
   "source": [
    "wr1.hist()\n",
    "plt.show()\n",
    "plt.figure(figsize =[25,25])"
   ]
  },
  {
   "cell_type": "code",
   "execution_count": 14,
   "metadata": {},
   "outputs": [
    {
     "data": {
      "text/html": [
       "<div>\n",
       "<style scoped>\n",
       "    .dataframe tbody tr th:only-of-type {\n",
       "        vertical-align: middle;\n",
       "    }\n",
       "\n",
       "    .dataframe tbody tr th {\n",
       "        vertical-align: top;\n",
       "    }\n",
       "\n",
       "    .dataframe thead th {\n",
       "        text-align: right;\n",
       "    }\n",
       "</style>\n",
       "<table border=\"1\" class=\"dataframe\">\n",
       "  <thead>\n",
       "    <tr style=\"text-align: right;\">\n",
       "      <th></th>\n",
       "      <th>Unnamed: 0</th>\n",
       "      <th>YEAR</th>\n",
       "      <th>MEAN_ANNUAL_RAINFALL</th>\n",
       "      <th>MEAN_ANNUAL_TEMP</th>\n",
       "      <th>MAX_ANNUAL_TEMP</th>\n",
       "      <th>MIN_ANNUAL_TEMP</th>\n",
       "    </tr>\n",
       "  </thead>\n",
       "  <tbody>\n",
       "    <tr>\n",
       "      <td>0</td>\n",
       "      <td>1</td>\n",
       "      <td>1901</td>\n",
       "      <td>1284.214286</td>\n",
       "      <td>24.23</td>\n",
       "      <td>28.96</td>\n",
       "      <td>19.51</td>\n",
       "    </tr>\n",
       "    <tr>\n",
       "      <td>1</td>\n",
       "      <td>2</td>\n",
       "      <td>1902</td>\n",
       "      <td>1337.302857</td>\n",
       "      <td>24.33</td>\n",
       "      <td>29.22</td>\n",
       "      <td>19.44</td>\n",
       "    </tr>\n",
       "    <tr>\n",
       "      <td>2</td>\n",
       "      <td>3</td>\n",
       "      <td>1903</td>\n",
       "      <td>1399.908824</td>\n",
       "      <td>23.80</td>\n",
       "      <td>28.47</td>\n",
       "      <td>19.25</td>\n",
       "    </tr>\n",
       "    <tr>\n",
       "      <td>3</td>\n",
       "      <td>4</td>\n",
       "      <td>1904</td>\n",
       "      <td>1236.771429</td>\n",
       "      <td>23.86</td>\n",
       "      <td>28.49</td>\n",
       "      <td>19.22</td>\n",
       "    </tr>\n",
       "    <tr>\n",
       "      <td>4</td>\n",
       "      <td>5</td>\n",
       "      <td>1905</td>\n",
       "      <td>1186.177143</td>\n",
       "      <td>23.71</td>\n",
       "      <td>28.30</td>\n",
       "      <td>19.03</td>\n",
       "    </tr>\n",
       "    <tr>\n",
       "      <td>...</td>\n",
       "      <td>...</td>\n",
       "      <td>...</td>\n",
       "      <td>...</td>\n",
       "      <td>...</td>\n",
       "      <td>...</td>\n",
       "      <td>...</td>\n",
       "    </tr>\n",
       "    <tr>\n",
       "      <td>112</td>\n",
       "      <td>113</td>\n",
       "      <td>2013</td>\n",
       "      <td>1475.172222</td>\n",
       "      <td>24.82</td>\n",
       "      <td>29.81</td>\n",
       "      <td>19.83</td>\n",
       "    </tr>\n",
       "    <tr>\n",
       "      <td>113</td>\n",
       "      <td>114</td>\n",
       "      <td>2014</td>\n",
       "      <td>1244.336111</td>\n",
       "      <td>24.73</td>\n",
       "      <td>29.72</td>\n",
       "      <td>19.77</td>\n",
       "    </tr>\n",
       "    <tr>\n",
       "      <td>114</td>\n",
       "      <td>115</td>\n",
       "      <td>2015</td>\n",
       "      <td>1280.583333</td>\n",
       "      <td>24.91</td>\n",
       "      <td>29.90</td>\n",
       "      <td>19.96</td>\n",
       "    </tr>\n",
       "    <tr>\n",
       "      <td>115</td>\n",
       "      <td>116</td>\n",
       "      <td>2016</td>\n",
       "      <td>1273.694444</td>\n",
       "      <td>26.45</td>\n",
       "      <td>31.63</td>\n",
       "      <td>21.28</td>\n",
       "    </tr>\n",
       "    <tr>\n",
       "      <td>116</td>\n",
       "      <td>117</td>\n",
       "      <td>2017</td>\n",
       "      <td>1368.005556</td>\n",
       "      <td>26.29</td>\n",
       "      <td>31.42</td>\n",
       "      <td>21.17</td>\n",
       "    </tr>\n",
       "  </tbody>\n",
       "</table>\n",
       "<p>117 rows × 6 columns</p>\n",
       "</div>"
      ],
      "text/plain": [
       "     Unnamed: 0  YEAR  MEAN_ANNUAL_RAINFALL  MEAN_ANNUAL_TEMP  \\\n",
       "0             1  1901           1284.214286             24.23   \n",
       "1             2  1902           1337.302857             24.33   \n",
       "2             3  1903           1399.908824             23.80   \n",
       "3             4  1904           1236.771429             23.86   \n",
       "4             5  1905           1186.177143             23.71   \n",
       "..          ...   ...                   ...               ...   \n",
       "112         113  2013           1475.172222             24.82   \n",
       "113         114  2014           1244.336111             24.73   \n",
       "114         115  2015           1280.583333             24.91   \n",
       "115         116  2016           1273.694444             26.45   \n",
       "116         117  2017           1368.005556             26.29   \n",
       "\n",
       "     MAX_ANNUAL_TEMP  MIN_ANNUAL_TEMP  \n",
       "0              28.96            19.51  \n",
       "1              29.22            19.44  \n",
       "2              28.47            19.25  \n",
       "3              28.49            19.22  \n",
       "4              28.30            19.03  \n",
       "..               ...              ...  \n",
       "112            29.81            19.83  \n",
       "113            29.72            19.77  \n",
       "114            29.90            19.96  \n",
       "115            31.63            21.28  \n",
       "116            31.42            21.17  \n",
       "\n",
       "[117 rows x 6 columns]"
      ]
     },
     "execution_count": 14,
     "metadata": {},
     "output_type": "execute_result"
    }
   ],
   "source": [
    "rt"
   ]
  },
  {
   "cell_type": "markdown",
   "metadata": {},
   "source": [
    "## Comparison of behaviour between mean Rainfall vs mean Temp during 1901 to 2017"
   ]
  },
  {
   "cell_type": "code",
   "execution_count": 15,
   "metadata": {},
   "outputs": [
    {
     "data": {
      "image/png": "[encoded data removed]",
      "text/plain": [
       "<Figure size 432x288 with 1 Axes>"
      ]
     },
     "metadata": {
      "needs_background": "light"
     },
     "output_type": "display_data"
    }
   ],
   "source": [
    " plt.bar(rt['MEAN_ANNUAL_TEMP'], rt['MEAN_ANNUAL_RAINFALL']) \n",
    "plt.xlabel(\"MEAN_ANNUAL_TEMP\") \n",
    "plt.ylabel(\"MEAN_ANNUAL_RAINFALL\") \n",
    "plt.show()"
   ]
  },
  {
   "cell_type": "code",
   "execution_count": 16,
   "metadata": {},
   "outputs": [
    {
     "data": {
      "image/png": "[encoded data removed]",
      "text/plain": [
       "<Figure size 432x288 with 1 Axes>"
      ]
     },
     "metadata": {
      "needs_background": "light"
     },
     "output_type": "display_data"
    }
   ],
   "source": [
    "plt.scatter(rt['MEAN_ANNUAL_TEMP'], rt['MEAN_ANNUAL_RAINFALL'])\n",
    "plt.xlabel(\"MEAN_ANNUAL_TEMP\") \n",
    "plt.ylabel(\"MEAN_ANNUAL_RAINFALL\") \n",
    "plt.show() "
   ]
  },
  {
   "cell_type": "code",
   "execution_count": 17,
   "metadata": {},
   "outputs": [
    {
     "data": {
      "image/png": "[encoded data removed]",
      "text/plain": [
       "<Figure size 432x288 with 1 Axes>"
      ]
     },
     "metadata": {
      "needs_background": "light"
     },
     "output_type": "display_data"
    }
   ],
   "source": [
    "plt.scatter(rt['MEAN_ANNUAL_TEMP'], rt['YEAR'])\n",
    "plt.xlabel(\"MEAN_ANNUAL_TEMP\") \n",
    "plt.ylabel(\"YEAR\") \n",
    "plt.show() "
   ]
  },
  {
   "cell_type": "code",
   "execution_count": 18,
   "metadata": {},
   "outputs": [
    {
     "data": {
      "image/png": "[encoded data removed]",
      "text/plain": [
       "<Figure size 432x288 with 1 Axes>"
      ]
     },
     "metadata": {
      "needs_background": "light"
     },
     "output_type": "display_data"
    }
   ],
   "source": [
    "plt.scatter(rt['MEAN_ANNUAL_RAINFALL'], rt['YEAR'])\n",
    "plt.xlabel(\"MEAN_ANNUAL_RAINFALL\") \n",
    "plt.ylabel(\"YEAR\") \n",
    "plt.show() "
   ]
  },
  {
   "cell_type": "markdown",
   "metadata": {},
   "source": [
    "# Conclusion:-"
   ]
  },
  {
   "cell_type": "markdown",
   "metadata": {},
   "source": [
    "##  The mean rainfall vs wind data in year 2012 graphs show no direct realtionship ,and there is  no enough data apart from year 2012 and 2013 and there is no relationship in wind patterns and rainfall graphs . So this data is not considered for model training.\n"
   ]
  },
  {
   "cell_type": "markdown",
   "metadata": {},
   "source": [
    "## In mean rainfall vs mean temperature there is some reltionship as shown in last 3 graphs  and we also have the temperature data from 1901 to 2107 so this is considered as a feature for model training.\n"
   ]
  }
 ],
 "metadata": {
  "kernelspec": {
   "display_name": "Python 3",
   "language": "python",
   "name": "python3"
  },
  "language_info": {
   "codemirror_mode": {
    "name": "ipython",
    "version": 3
   },
   "file_extension": ".py",
   "mimetype": "text/x-python",
   "name": "python",
   "nbconvert_exporter": "python",
   "pygments_lexer": "ipython3",
   "version": "3.7.4"
  }
 },
 "nbformat": 4,
 "nbformat_minor": 2
}
