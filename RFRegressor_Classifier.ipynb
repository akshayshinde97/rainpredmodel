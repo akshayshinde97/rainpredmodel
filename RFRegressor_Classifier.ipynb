{
 "cells": [
  {
   "cell_type": "code",
   "execution_count": 1,
   "metadata": {},
   "outputs": [],
   "source": [
    "import numpy as np \n",
    "import pandas as pd \n",
    "import matplotlib.pyplot as plt\n",
    "from sklearn import linear_model"
   ]
  },
  {
   "cell_type": "code",
   "execution_count": 2,
   "metadata": {},
   "outputs": [
    {
     "name": "stdout",
     "output_type": "stream",
     "text": [
      "<class 'pandas.core.frame.DataFrame'>\n",
      "RangeIndex: 3954 entries, 0 to 3953\n",
      "Data columns (total 23 columns):\n",
      "SUBDIVISION         3954 non-null object\n",
      "YEAR                3954 non-null int64\n",
      "ANNUAL              3928 non-null float64\n",
      "NEXTANNUAL          3895 non-null float64\n",
      "JAN                 3950 non-null float64\n",
      "FEB                 3951 non-null float64\n",
      "MAR                 3948 non-null float64\n",
      "APR                 3950 non-null float64\n",
      "MAY                 3951 non-null float64\n",
      "JUN                 3949 non-null float64\n",
      "JUL                 3947 non-null float64\n",
      "AUG                 3950 non-null float64\n",
      "SEP                 3948 non-null float64\n",
      "OCT                 3947 non-null float64\n",
      "NOV                 3943 non-null float64\n",
      "DEC                 3944 non-null float64\n",
      "Region              3954 non-null int64\n",
      "MEAN_ANNUAL_TEMP    3954 non-null float64\n",
      "MAX_ANNUAL_TEMP     3954 non-null float64\n",
      "MIN_ANNUAL_TEMP     3954 non-null float64\n",
      "G.Area              3954 non-null object\n",
      "RFA                 3954 non-null object\n",
      "NAPREDICT           1965 non-null float64\n",
      "dtypes: float64(18), int64(2), object(3)\n",
      "memory usage: 710.6+ KB\n"
     ]
    }
   ],
   "source": [
    "from subprocess import check_output\n",
    "df = pd.read_csv('rainregion1_updCSV.csv')\n",
    "df.info()\n",
    "df.dropna(how='any', inplace=True)"
   ]
  },
  {
   "cell_type": "code",
   "execution_count": 3,
   "metadata": {},
   "outputs": [
    {
     "data": {
      "text/html": [
       "<div>\n",
       "<style scoped>\n",
       "    .dataframe tbody tr th:only-of-type {\n",
       "        vertical-align: middle;\n",
       "    }\n",
       "\n",
       "    .dataframe tbody tr th {\n",
       "        vertical-align: top;\n",
       "    }\n",
       "\n",
       "    .dataframe thead th {\n",
       "        text-align: right;\n",
       "    }\n",
       "</style>\n",
       "<table border=\"1\" class=\"dataframe\">\n",
       "  <thead>\n",
       "    <tr style=\"text-align: right;\">\n",
       "      <th></th>\n",
       "      <th>SUBDIVISION</th>\n",
       "      <th>YEAR</th>\n",
       "      <th>ANNUAL</th>\n",
       "      <th>NEXTANNUAL</th>\n",
       "      <th>JAN</th>\n",
       "      <th>FEB</th>\n",
       "      <th>MAR</th>\n",
       "      <th>APR</th>\n",
       "      <th>MAY</th>\n",
       "      <th>JUN</th>\n",
       "      <th>...</th>\n",
       "      <th>OCT</th>\n",
       "      <th>NOV</th>\n",
       "      <th>DEC</th>\n",
       "      <th>Region</th>\n",
       "      <th>MEAN_ANNUAL_TEMP</th>\n",
       "      <th>MAX_ANNUAL_TEMP</th>\n",
       "      <th>MIN_ANNUAL_TEMP</th>\n",
       "      <th>G.Area</th>\n",
       "      <th>RFA</th>\n",
       "      <th>NAPREDICT</th>\n",
       "    </tr>\n",
       "  </thead>\n",
       "  <tbody>\n",
       "    <tr>\n",
       "      <td>0</td>\n",
       "      <td>Andaman &amp; Nicobar Islands</td>\n",
       "      <td>1901</td>\n",
       "      <td>3373.2</td>\n",
       "      <td>3520.7</td>\n",
       "      <td>49.2</td>\n",
       "      <td>87.1</td>\n",
       "      <td>29.2</td>\n",
       "      <td>2.3</td>\n",
       "      <td>528.8</td>\n",
       "      <td>517.5</td>\n",
       "      <td>...</td>\n",
       "      <td>388.5</td>\n",
       "      <td>558.2</td>\n",
       "      <td>33.6</td>\n",
       "      <td>1</td>\n",
       "      <td>24.23</td>\n",
       "      <td>28.96</td>\n",
       "      <td>19.51</td>\n",
       "      <td>8249</td>\n",
       "      <td>7171</td>\n",
       "      <td>1.0</td>\n",
       "    </tr>\n",
       "    <tr>\n",
       "      <td>1</td>\n",
       "      <td>Andaman &amp; Nicobar Islands</td>\n",
       "      <td>1902</td>\n",
       "      <td>3520.7</td>\n",
       "      <td>2957.4</td>\n",
       "      <td>0.0</td>\n",
       "      <td>159.8</td>\n",
       "      <td>12.2</td>\n",
       "      <td>0.0</td>\n",
       "      <td>446.1</td>\n",
       "      <td>537.1</td>\n",
       "      <td>...</td>\n",
       "      <td>197.2</td>\n",
       "      <td>359.0</td>\n",
       "      <td>160.5</td>\n",
       "      <td>1</td>\n",
       "      <td>24.33</td>\n",
       "      <td>29.22</td>\n",
       "      <td>19.44</td>\n",
       "      <td>8249</td>\n",
       "      <td>7171</td>\n",
       "      <td>1.0</td>\n",
       "    </tr>\n",
       "    <tr>\n",
       "      <td>2</td>\n",
       "      <td>Andaman &amp; Nicobar Islands</td>\n",
       "      <td>1903</td>\n",
       "      <td>2957.4</td>\n",
       "      <td>3079.6</td>\n",
       "      <td>12.7</td>\n",
       "      <td>144.0</td>\n",
       "      <td>0.0</td>\n",
       "      <td>1.0</td>\n",
       "      <td>235.1</td>\n",
       "      <td>479.9</td>\n",
       "      <td>...</td>\n",
       "      <td>181.2</td>\n",
       "      <td>284.4</td>\n",
       "      <td>225.0</td>\n",
       "      <td>1</td>\n",
       "      <td>23.80</td>\n",
       "      <td>28.47</td>\n",
       "      <td>19.25</td>\n",
       "      <td>8249</td>\n",
       "      <td>7171</td>\n",
       "      <td>1.0</td>\n",
       "    </tr>\n",
       "    <tr>\n",
       "      <td>3</td>\n",
       "      <td>Andaman &amp; Nicobar Islands</td>\n",
       "      <td>1904</td>\n",
       "      <td>3079.6</td>\n",
       "      <td>2566.7</td>\n",
       "      <td>9.4</td>\n",
       "      <td>14.7</td>\n",
       "      <td>0.0</td>\n",
       "      <td>202.4</td>\n",
       "      <td>304.5</td>\n",
       "      <td>495.1</td>\n",
       "      <td>...</td>\n",
       "      <td>222.2</td>\n",
       "      <td>308.7</td>\n",
       "      <td>40.1</td>\n",
       "      <td>1</td>\n",
       "      <td>23.86</td>\n",
       "      <td>28.49</td>\n",
       "      <td>19.22</td>\n",
       "      <td>8249</td>\n",
       "      <td>7171</td>\n",
       "      <td>0.0</td>\n",
       "    </tr>\n",
       "    <tr>\n",
       "      <td>4</td>\n",
       "      <td>Andaman &amp; Nicobar Islands</td>\n",
       "      <td>1905</td>\n",
       "      <td>2566.7</td>\n",
       "      <td>2534.4</td>\n",
       "      <td>1.3</td>\n",
       "      <td>0.0</td>\n",
       "      <td>3.3</td>\n",
       "      <td>26.9</td>\n",
       "      <td>279.5</td>\n",
       "      <td>628.7</td>\n",
       "      <td>...</td>\n",
       "      <td>260.7</td>\n",
       "      <td>25.4</td>\n",
       "      <td>344.7</td>\n",
       "      <td>1</td>\n",
       "      <td>23.71</td>\n",
       "      <td>28.30</td>\n",
       "      <td>19.03</td>\n",
       "      <td>8249</td>\n",
       "      <td>7171</td>\n",
       "      <td>0.0</td>\n",
       "    </tr>\n",
       "  </tbody>\n",
       "</table>\n",
       "<p>5 rows × 23 columns</p>\n",
       "</div>"
      ],
      "text/plain": [
       "                 SUBDIVISION  YEAR  ANNUAL  NEXTANNUAL   JAN    FEB   MAR  \\\n",
       "0  Andaman & Nicobar Islands  1901  3373.2      3520.7  49.2   87.1  29.2   \n",
       "1  Andaman & Nicobar Islands  1902  3520.7      2957.4   0.0  159.8  12.2   \n",
       "2  Andaman & Nicobar Islands  1903  2957.4      3079.6  12.7  144.0   0.0   \n",
       "3  Andaman & Nicobar Islands  1904  3079.6      2566.7   9.4   14.7   0.0   \n",
       "4  Andaman & Nicobar Islands  1905  2566.7      2534.4   1.3    0.0   3.3   \n",
       "\n",
       "     APR    MAY    JUN  ...    OCT    NOV    DEC  Region  MEAN_ANNUAL_TEMP  \\\n",
       "0    2.3  528.8  517.5  ...  388.5  558.2   33.6       1             24.23   \n",
       "1    0.0  446.1  537.1  ...  197.2  359.0  160.5       1             24.33   \n",
       "2    1.0  235.1  479.9  ...  181.2  284.4  225.0       1             23.80   \n",
       "3  202.4  304.5  495.1  ...  222.2  308.7   40.1       1             23.86   \n",
       "4   26.9  279.5  628.7  ...  260.7   25.4  344.7       1             23.71   \n",
       "\n",
       "   MAX_ANNUAL_TEMP  MIN_ANNUAL_TEMP  G.Area   RFA  NAPREDICT  \n",
       "0            28.96            19.51    8249  7171        1.0  \n",
       "1            29.22            19.44    8249  7171        1.0  \n",
       "2            28.47            19.25    8249  7171        1.0  \n",
       "3            28.49            19.22    8249  7171        0.0  \n",
       "4            28.30            19.03    8249  7171        0.0  \n",
       "\n",
       "[5 rows x 23 columns]"
      ]
     },
     "execution_count": 3,
     "metadata": {},
     "output_type": "execute_result"
    }
   ],
   "source": [
    "df.head()"
   ]
  },
  {
   "cell_type": "code",
   "execution_count": 4,
   "metadata": {},
   "outputs": [],
   "source": [
    "df2=df"
   ]
  },
  {
   "cell_type": "markdown",
   "metadata": {},
   "source": [
    "## FUNCTION TO CALCULATE FEATURE IMPORTANCE"
   ]
  },
  {
   "cell_type": "code",
   "execution_count": 3,
   "metadata": {},
   "outputs": [],
   "source": [
    "# function for creating a feature importance dataframe\n",
    "def imp_df(column_names, importances):\n",
    "    df = pd.DataFrame({'feature': column_names,\n",
    "                       'feature_importance': importances}) \\\n",
    "           .sort_values('feature_importance', ascending = False) \\\n",
    "           .reset_index(drop = True)\n",
    "    return df\n",
    "\n",
    "# plotting a feature importance dataframe (horizontal barchart)\n",
    "def var_imp_plot(imp_df, title):\n",
    "    imp_df.columns = ['feature', 'feature_importance']\n",
    "    sns.barplot(x = 'feature_importance', y = 'feature', data = imp_df, orient = 'h', color = 'royalblue') \\\n",
    "       .set_title(title, fontsize = 20)"
   ]
  },
  {
   "cell_type": "markdown",
   "metadata": {},
   "source": [
    "## RandomForestRegressor MODEL"
   ]
  },
  {
   "cell_type": "code",
   "execution_count": 4,
   "metadata": {},
   "outputs": [],
   "source": [
    "from sklearn.model_selection import train_test_split"
   ]
  },
  {
   "cell_type": "code",
   "execution_count": 5,
   "metadata": {},
   "outputs": [],
   "source": [
    "y = df.NEXTANNUAL\n",
    "X = df.drop(['SUBDIVISION','NAPREDICT','NEXTANNUAL'],axis=1)\n",
    "X_train, X_valid, y_train, y_valid = train_test_split(X, y, test_size = 0.8, random_state = 42)"
   ]
  },
  {
   "cell_type": "code",
   "execution_count": 6,
   "metadata": {},
   "outputs": [],
   "source": [
    "import seaborn as sns\n",
    "import matplotlib.pyplot as plt\n",
    "%matplotlib inline\n",
    "sns.set_style(\"whitegrid\")\n",
    "sns.set(rc = {'figure.figsize':(15,15)})"
   ]
  },
  {
   "cell_type": "code",
   "execution_count": 7,
   "metadata": {},
   "outputs": [
    {
     "data": {
      "text/plain": [
       "RandomForestRegressor(bootstrap=True, criterion='mse', max_depth=None,\n",
       "                      max_features='auto', max_leaf_nodes=None,\n",
       "                      min_impurity_decrease=0.0, min_impurity_split=None,\n",
       "                      min_samples_leaf=1, min_samples_split=2,\n",
       "                      min_weight_fraction_leaf=0.0, n_estimators=100, n_jobs=-1,\n",
       "                      oob_score=True, random_state=42, verbose=0,\n",
       "                      warm_start=False)"
      ]
     },
     "execution_count": 7,
     "metadata": {},
     "output_type": "execute_result"
    }
   ],
   "source": [
    "from sklearn.ensemble import RandomForestRegressor\n",
    "global rf\n",
    "rf = RandomForestRegressor(n_estimators = 100,\n",
    "                           n_jobs = -1,\n",
    "                           oob_score = True,\n",
    "                           bootstrap = True,\n",
    "                           random_state = 42)\n",
    "rf.fit(X_train, y_train)"
   ]
  },
  {
   "cell_type": "markdown",
   "metadata": {},
   "source": [
    "## ACCURACY SCORE OF RANDOM FOREST REGRESSOR."
   ]
  },
  {
   "cell_type": "code",
   "execution_count": 8,
   "metadata": {},
   "outputs": [
    {
     "name": "stdout",
     "output_type": "stream",
     "text": [
      "R^2 Training Score: 0.98 \n",
      "OOB Score: 0.88 \n",
      "R^2 Validation Score: 0.85\n"
     ]
    }
   ],
   "source": [
    "print('R^2 Training Score: {:.2f} \\nOOB Score: {:.2f} \\nR^2 Validation Score: {:.2f}'.format(rf.score(X_train, y_train), \n",
    "                                                                                    rf.oob_score_,\n",
    "                                                                                    rf.score(X_valid, y_valid)))"
   ]
  },
  {
   "cell_type": "markdown",
   "metadata": {},
   "source": [
    "## Interactive USER INPUT FUNCTION "
   ]
  },
  {
   "cell_type": "code",
   "execution_count": 9,
   "metadata": {},
   "outputs": [],
   "source": [
    "from __future__ import print_function\n",
    "from ipywidgets import interact, interactive, fixed, interact_manual\n",
    "import ipywidgets as widgets\n",
    "from IPython.display import display\n"
   ]
  },
  {
   "cell_type": "code",
   "execution_count": 10,
   "metadata": {},
   "outputs": [],
   "source": [
    "df3=pd.read_csv('rainregion1_updCSV.csv')\n",
    "df2=df"
   ]
  },
  {
   "cell_type": "code",
   "execution_count": 24,
   "metadata": {},
   "outputs": [
    {
     "name": "stdout",
     "output_type": "stream",
     "text": [
      "2018\n"
     ]
    },
    {
     "data": {
      "application/vnd.jupyter.widget-view+json": {
       "model_id": "4a6a4f72b0254e8e8e526f5a8d032491",
       "version_major": 2,
       "version_minor": 0
      },
      "text/plain": [
       "interactive(children=(Dropdown(description='REGION', options=('Andaman & Nicobar Islands', 'Arunachal Pradesh'…"
      ]
     },
     "metadata": {},
     "output_type": "display_data"
    },
    {
     "ename": "NameError",
     "evalue": "name 'REGION' is not defined",
     "output_type": "error",
     "traceback": [
      "\u001b[1;31m---------------------------------------------------------------------------\u001b[0m",
      "\u001b[1;31mNameError\u001b[0m                                 Traceback (most recent call last)",
      "\u001b[1;32m<ipython-input-24-1d602a8fb7d3>\u001b[0m in \u001b[0;36m<module>\u001b[1;34m\u001b[0m\n\u001b[0;32m     68\u001b[0m \u001b[0myr\u001b[0m\u001b[1;33m=\u001b[0m\u001b[0mint\u001b[0m\u001b[1;33m(\u001b[0m\u001b[0minput\u001b[0m\u001b[1;33m(\u001b[0m\u001b[1;33m)\u001b[0m\u001b[1;33m)\u001b[0m\u001b[1;33m\u001b[0m\u001b[1;33m\u001b[0m\u001b[0m\n\u001b[0;32m     69\u001b[0m \u001b[0mlist1\u001b[0m\u001b[1;33m=\u001b[0m\u001b[1;33m[\u001b[0m\u001b[1;33m]\u001b[0m\u001b[1;33m\u001b[0m\u001b[1;33m\u001b[0m\u001b[0m\n\u001b[1;32m---> 70\u001b[1;33m \u001b[0mvalidyr\u001b[0m\u001b[1;33m(\u001b[0m\u001b[0myr\u001b[0m\u001b[1;33m)\u001b[0m\u001b[1;33m\u001b[0m\u001b[1;33m\u001b[0m\u001b[0m\n\u001b[0m",
      "\u001b[1;32m<ipython-input-24-1d602a8fb7d3>\u001b[0m in \u001b[0;36mvalidyr\u001b[1;34m(yr)\u001b[0m\n\u001b[0;32m     63\u001b[0m         \u001b[0mw\u001b[0m\u001b[1;33m=\u001b[0m\u001b[0minteractive\u001b[0m\u001b[1;33m(\u001b[0m\u001b[0muserinput\u001b[0m\u001b[1;33m,\u001b[0m \u001b[0mREGION\u001b[0m\u001b[1;33m=\u001b[0m\u001b[0mdf2\u001b[0m\u001b[1;33m.\u001b[0m\u001b[0mSUBDIVISION\u001b[0m\u001b[1;33m.\u001b[0m\u001b[0munique\u001b[0m\u001b[1;33m(\u001b[0m\u001b[1;33m)\u001b[0m\u001b[1;33m)\u001b[0m\u001b[1;33m;\u001b[0m\u001b[1;33m\u001b[0m\u001b[1;33m\u001b[0m\u001b[0m\n\u001b[0;32m     64\u001b[0m         \u001b[0mdisplay\u001b[0m\u001b[1;33m(\u001b[0m\u001b[0mw\u001b[0m\u001b[1;33m)\u001b[0m\u001b[1;33m\u001b[0m\u001b[1;33m\u001b[0m\u001b[0m\n\u001b[1;32m---> 65\u001b[1;33m         \u001b[0mdisplay\u001b[0m\u001b[1;33m(\u001b[0m\u001b[0mprint\u001b[0m\u001b[1;33m(\u001b[0m\u001b[1;34m\"Expected annual rainfall in {} during year {} is {} mm \"\u001b[0m\u001b[1;33m.\u001b[0m\u001b[0mformat\u001b[0m\u001b[1;33m(\u001b[0m\u001b[0mREGION\u001b[0m\u001b[1;33m,\u001b[0m\u001b[0myr\u001b[0m\u001b[1;33m,\u001b[0m\u001b[0mre\u001b[0m\u001b[1;33m)\u001b[0m\u001b[1;33m)\u001b[0m\u001b[1;33m)\u001b[0m\u001b[1;33m\u001b[0m\u001b[1;33m\u001b[0m\u001b[0m\n\u001b[0m\u001b[0;32m     66\u001b[0m \u001b[1;33m\u001b[0m\u001b[0m\n\u001b[0;32m     67\u001b[0m \u001b[1;33m\u001b[0m\u001b[0m\n",
      "\u001b[1;31mNameError\u001b[0m: name 'REGION' is not defined"
     ]
    }
   ],
   "source": [
    "list1=[]\n",
    "global l\n",
    "global a\n",
    "global year\n",
    "global region\n",
    "global yr\n",
    "l=[]\n",
    "\n",
    "def userinput(REGION):\n",
    "    region=REGION\n",
    "    if(yr<=2018):\n",
    "        Y=yr-1\n",
    "        A=df3.loc[(df3['SUBDIVISION'] == REGION ) & (df3['YEAR'] == Y )]\n",
    "        b=A.drop(['SUBDIVISION','NEXTANNUAL','NAPREDICT'],axis=1)\n",
    "        inputvect = b.values.tolist()\n",
    "        result=rf.predict(inputvect)\n",
    "        re=int(result)\n",
    "        display(print(\"Expected annual rainfall in {} during year {} is {} mm \".format(REGION,yr,re)))\n",
    "def validyr(yr):\n",
    "    pass\n",
    "def custominput(region,a):\n",
    "    hl=a\n",
    "    J=[]\n",
    "    A=df3.loc[(df3['SUBDIVISION'] == region ) & (df3['YEAR'] == 2015 )]\n",
    "    b=A[['Region','G.Area','RFA']].values.tolist()\n",
    "    print(b)\n",
    "    for i in b[0]:\n",
    "        j=int(i)\n",
    "        J.append(j)\n",
    "    hl.insert(14,J[0])\n",
    "    for i in J[1:]:\n",
    "        hl.append(i)\n",
    "    l1=[hl]\n",
    "    result=rf.predict(l1)\n",
    "    re=int(result)\n",
    "    display(print(\"Expected annual rainfall in {} during year {} is {} mm \".format(region,yr,re)))\n",
    "    return print(\"Expected annual rainfall in {} during year {} is {} mm \".format(region,yr,re))\n",
    "\n",
    "def vectinput(list1,l):\n",
    "    annual=sum(list1[1:13])\n",
    "    MEAN_ANNUAL_TEMP=sum(list1[13:15])\n",
    "    l.append(list1[0])\n",
    "    l.append(annual)\n",
    "    for elem in list1[1:13]:\n",
    "        l.append(elem)\n",
    "    l.append(MEAN_ANNUAL_TEMP)\n",
    "    for i in list1[13:15]:\n",
    "        l.append(i)\n",
    "    return l\n",
    "\n",
    "def validyr(yr):\n",
    "    if(yr > 2018):\n",
    "        print(\"DATA NOT AVAILABLE,please enter the data for year {}\".format(yr-1))\n",
    "        for i in range(15):\n",
    "            x=int(input())\n",
    "            list1.append(x)\n",
    "        a=vectinput(list1,l)\n",
    "        print(\"Enter the region you want prediction from\")\n",
    "        region=input()\n",
    "        custominput(region,a)\n",
    "        return a\n",
    "    else:\n",
    "        w=interactive(userinput, REGION=df2.SUBDIVISION.unique());\n",
    "        display(w)\n",
    "        \n",
    "yr=int(input())\n",
    "list1=[]\n",
    "validyr(yr)"
   ]
  },
  {
   "cell_type": "code",
   "execution_count": 12,
   "metadata": {},
   "outputs": [
    {
     "data": {
      "text/html": [
       "<div>\n",
       "<style scoped>\n",
       "    .dataframe tbody tr th:only-of-type {\n",
       "        vertical-align: middle;\n",
       "    }\n",
       "\n",
       "    .dataframe tbody tr th {\n",
       "        vertical-align: top;\n",
       "    }\n",
       "\n",
       "    .dataframe thead th {\n",
       "        text-align: right;\n",
       "    }\n",
       "</style>\n",
       "<table border=\"1\" class=\"dataframe\">\n",
       "  <thead>\n",
       "    <tr style=\"text-align: right;\">\n",
       "      <th></th>\n",
       "      <th>feature</th>\n",
       "      <th>feature_importance</th>\n",
       "    </tr>\n",
       "  </thead>\n",
       "  <tbody>\n",
       "    <tr>\n",
       "      <td>0</td>\n",
       "      <td>ANNUAL</td>\n",
       "      <td>0.840829</td>\n",
       "    </tr>\n",
       "    <tr>\n",
       "      <td>1</td>\n",
       "      <td>G.Area</td>\n",
       "      <td>0.036403</td>\n",
       "    </tr>\n",
       "    <tr>\n",
       "      <td>2</td>\n",
       "      <td>JUL</td>\n",
       "      <td>0.022216</td>\n",
       "    </tr>\n",
       "    <tr>\n",
       "      <td>3</td>\n",
       "      <td>APR</td>\n",
       "      <td>0.010365</td>\n",
       "    </tr>\n",
       "    <tr>\n",
       "      <td>4</td>\n",
       "      <td>DEC</td>\n",
       "      <td>0.010037</td>\n",
       "    </tr>\n",
       "    <tr>\n",
       "      <td>5</td>\n",
       "      <td>SEP</td>\n",
       "      <td>0.008538</td>\n",
       "    </tr>\n",
       "    <tr>\n",
       "      <td>6</td>\n",
       "      <td>MAY</td>\n",
       "      <td>0.007598</td>\n",
       "    </tr>\n",
       "    <tr>\n",
       "      <td>7</td>\n",
       "      <td>MAR</td>\n",
       "      <td>0.007157</td>\n",
       "    </tr>\n",
       "    <tr>\n",
       "      <td>8</td>\n",
       "      <td>YEAR</td>\n",
       "      <td>0.006226</td>\n",
       "    </tr>\n",
       "    <tr>\n",
       "      <td>9</td>\n",
       "      <td>JUN</td>\n",
       "      <td>0.005967</td>\n",
       "    </tr>\n",
       "    <tr>\n",
       "      <td>10</td>\n",
       "      <td>AUG</td>\n",
       "      <td>0.005763</td>\n",
       "    </tr>\n",
       "    <tr>\n",
       "      <td>11</td>\n",
       "      <td>FEB</td>\n",
       "      <td>0.005621</td>\n",
       "    </tr>\n",
       "    <tr>\n",
       "      <td>12</td>\n",
       "      <td>RFA</td>\n",
       "      <td>0.005455</td>\n",
       "    </tr>\n",
       "    <tr>\n",
       "      <td>13</td>\n",
       "      <td>MAX_ANNUAL_TEMP</td>\n",
       "      <td>0.004729</td>\n",
       "    </tr>\n",
       "    <tr>\n",
       "      <td>14</td>\n",
       "      <td>OCT</td>\n",
       "      <td>0.004628</td>\n",
       "    </tr>\n",
       "    <tr>\n",
       "      <td>15</td>\n",
       "      <td>NOV</td>\n",
       "      <td>0.004606</td>\n",
       "    </tr>\n",
       "    <tr>\n",
       "      <td>16</td>\n",
       "      <td>MIN_ANNUAL_TEMP</td>\n",
       "      <td>0.004240</td>\n",
       "    </tr>\n",
       "    <tr>\n",
       "      <td>17</td>\n",
       "      <td>JAN</td>\n",
       "      <td>0.003415</td>\n",
       "    </tr>\n",
       "    <tr>\n",
       "      <td>18</td>\n",
       "      <td>Region</td>\n",
       "      <td>0.003133</td>\n",
       "    </tr>\n",
       "    <tr>\n",
       "      <td>19</td>\n",
       "      <td>MEAN_ANNUAL_TEMP</td>\n",
       "      <td>0.003074</td>\n",
       "    </tr>\n",
       "  </tbody>\n",
       "</table>\n",
       "</div>"
      ],
      "text/plain": [
       "             feature  feature_importance\n",
       "0             ANNUAL            0.840829\n",
       "1             G.Area            0.036403\n",
       "2                JUL            0.022216\n",
       "3                APR            0.010365\n",
       "4                DEC            0.010037\n",
       "5                SEP            0.008538\n",
       "6                MAY            0.007598\n",
       "7                MAR            0.007157\n",
       "8               YEAR            0.006226\n",
       "9                JUN            0.005967\n",
       "10               AUG            0.005763\n",
       "11               FEB            0.005621\n",
       "12               RFA            0.005455\n",
       "13   MAX_ANNUAL_TEMP            0.004729\n",
       "14               OCT            0.004628\n",
       "15               NOV            0.004606\n",
       "16   MIN_ANNUAL_TEMP            0.004240\n",
       "17               JAN            0.003415\n",
       "18            Region            0.003133\n",
       "19  MEAN_ANNUAL_TEMP            0.003074"
      ]
     },
     "execution_count": 12,
     "metadata": {},
     "output_type": "execute_result"
    }
   ],
   "source": [
    "base_imp = imp_df(X_train.columns, rf.feature_importances_)\n",
    "base_imp\n"
   ]
  },
  {
   "cell_type": "code",
   "execution_count": 13,
   "metadata": {},
   "outputs": [
    {
     "data": {
      "image/png": "[encoded data removed]",
      "text/plain": [
       "<Figure size 1080x1080 with 1 Axes>"
      ]
     },
     "metadata": {},
     "output_type": "display_data"
    }
   ],
   "source": [
    "var_imp_plot(base_imp, 'Feature importance (scikit-learn)')"
   ]
  },
  {
   "cell_type": "markdown",
   "metadata": {},
   "source": [
    "## CLASSIFIER"
   ]
  },
  {
   "cell_type": "markdown",
   "metadata": {},
   "source": [
    "## 1)NAVIE BBAYES -GAUSSAIN"
   ]
  },
  {
   "cell_type": "code",
   "execution_count": 18,
   "metadata": {},
   "outputs": [],
   "source": [
    "from sklearn.naive_bayes import GaussianNB"
   ]
  },
  {
   "cell_type": "code",
   "execution_count": 19,
   "metadata": {},
   "outputs": [],
   "source": [
    "gnb = GaussianNB()"
   ]
  },
  {
   "cell_type": "code",
   "execution_count": 16,
   "metadata": {},
   "outputs": [],
   "source": [
    "y1 = df2.NAPREDICT\n",
    "X1=X\n",
    "X1_train, X1_valid, y1_train, y1_valid = train_test_split(X1, y1, test_size = 0.2, random_state = 42)"
   ]
  },
  {
   "cell_type": "code",
   "execution_count": 21,
   "metadata": {},
   "outputs": [
    {
     "data": {
      "text/plain": [
       "GaussianNB(priors=None, var_smoothing=1e-09)"
      ]
     },
     "execution_count": 21,
     "metadata": {},
     "output_type": "execute_result"
    }
   ],
   "source": [
    "gnb.fit(X1_train,y1_train)"
   ]
  },
  {
   "cell_type": "code",
   "execution_count": 29,
   "metadata": {},
   "outputs": [],
   "source": [
    "y1_pred=gnb.predict(X1_valid)"
   ]
  },
  {
   "cell_type": "code",
   "execution_count": 30,
   "metadata": {},
   "outputs": [
    {
     "data": {
      "text/plain": [
       "0.5968586387434555"
      ]
     },
     "execution_count": 30,
     "metadata": {},
     "output_type": "execute_result"
    }
   ],
   "source": [
    "gnb.score(X1_valid,y1_valid)"
   ]
  },
  {
   "cell_type": "markdown",
   "metadata": {},
   "source": [
    "## Accuracy of NAVIE BAIS CLASSIFIER"
   ]
  },
  {
   "cell_type": "code",
   "execution_count": 31,
   "metadata": {},
   "outputs": [
    {
     "name": "stdout",
     "output_type": "stream",
     "text": [
      "Accuracy: 0.5968586387434555\n"
     ]
    }
   ],
   "source": [
    "from sklearn import metrics\n",
    "\n",
    "# Model Accuracy, how often is the classifier correct?\n",
    "print(\"Accuracy:\",metrics.accuracy_score(y1_valid, y1_pred))"
   ]
  },
  {
   "cell_type": "markdown",
   "metadata": {},
   "source": [
    "## Train_Test_split FOR RANDOM FOREST CLASSIFIER"
   ]
  },
  {
   "cell_type": "code",
   "execution_count": 14,
   "metadata": {},
   "outputs": [],
   "source": [
    "y2 = df2.NAPREDICT\n",
    "X2 = X\n",
    "X2_train, X2_valid, y2_train, y2_valid = train_test_split(X2, y2, test_size = 0.2, random_state = 42)"
   ]
  },
  {
   "cell_type": "markdown",
   "metadata": {},
   "source": [
    "## 2) Random forest"
   ]
  },
  {
   "cell_type": "code",
   "execution_count": 15,
   "metadata": {},
   "outputs": [
    {
     "data": {
      "text/plain": [
       "RandomForestClassifier(bootstrap=True, class_weight=None, criterion='gini',\n",
       "                       max_depth=None, max_features='sqrt', max_leaf_nodes=None,\n",
       "                       min_impurity_decrease=0.0, min_impurity_split=None,\n",
       "                       min_samples_leaf=1, min_samples_split=2,\n",
       "                       min_weight_fraction_leaf=0.0, n_estimators=100,\n",
       "                       n_jobs=None, oob_score=False, random_state=None,\n",
       "                       verbose=0, warm_start=False)"
      ]
     },
     "execution_count": 15,
     "metadata": {},
     "output_type": "execute_result"
    }
   ],
   "source": [
    "from sklearn.ensemble import RandomForestClassifier\n",
    "\n",
    "# Create the model with 100 trees\n",
    "model = RandomForestClassifier(n_estimators=100, \n",
    "                               bootstrap = True,\n",
    "                               max_features = 'sqrt')\n",
    "# Fit on training data\n",
    "model.fit(X2_train, y2_train)"
   ]
  },
  {
   "cell_type": "code",
   "execution_count": 16,
   "metadata": {},
   "outputs": [],
   "source": [
    "rf_predictions = model.predict(X2_valid)\n",
    "# Probabilities for each class\n",
    "rf_probs = model.predict_proba(X2_valid)[:, 1]"
   ]
  },
  {
   "cell_type": "code",
   "execution_count": 17,
   "metadata": {},
   "outputs": [],
   "source": [
    "from sklearn.metrics import roc_auc_score\n",
    "\n",
    "# Calculate roc auc\n",
    "roc_value = roc_auc_score(y2_valid, rf_probs)"
   ]
  },
  {
   "cell_type": "code",
   "execution_count": 18,
   "metadata": {},
   "outputs": [
    {
     "data": {
      "text/plain": [
       "0.740903890160183"
      ]
     },
     "execution_count": 18,
     "metadata": {},
     "output_type": "execute_result"
    }
   ],
   "source": [
    "roc_value"
   ]
  },
  {
   "cell_type": "markdown",
   "metadata": {},
   "source": [
    "## MODEL ACCURACY OF Random Forest classifier"
   ]
  },
  {
   "cell_type": "code",
   "execution_count": 19,
   "metadata": {},
   "outputs": [
    {
     "name": "stdout",
     "output_type": "stream",
     "text": [
      "Accuracy: 0.6832460732984293\n"
     ]
    }
   ],
   "source": [
    "from sklearn import metrics\n",
    "\n",
    "# Model Accuracy, how often is the classifier correct?\n",
    "print(\"Accuracy:\",metrics.accuracy_score(y2_valid,rf_predictions))"
   ]
  },
  {
   "cell_type": "code",
   "execution_count": 20,
   "metadata": {},
   "outputs": [],
   "source": [
    "from __future__ import print_function\n",
    "from ipywidgets import interact, interactive, fixed, interact_manual\n",
    "import ipywidgets as widgets\n",
    "from IPython.display import display"
   ]
  },
  {
   "cell_type": "code",
   "execution_count": 21,
   "metadata": {},
   "outputs": [
    {
     "data": {
      "application/vnd.jupyter.widget-view+json": {
       "model_id": "3d21bf7821ff45709065cad880759896",
       "version_major": 2,
       "version_minor": 0
      },
      "text/plain": [
       "interactive(children=(Dropdown(description='REGION', options=('Andaman & Nicobar Islands', 'Arunachal Pradesh'…"
      ]
     },
     "metadata": {},
     "output_type": "display_data"
    }
   ],
   "source": [
    "from IPython.display import display\n",
    "def userinput(REGION, YEAR):\n",
    "    A=df3.loc[(df3['SUBDIVISION'] == REGION) & (df3['YEAR'] == YEAR )]\n",
    "    b=A.drop(['SUBDIVISION','NEXTANNUAL','NAPREDICT'],axis=1)\n",
    "    inputvect = b.values.tolist()\n",
    "    result=model.predict(inputvect)\n",
    "    display(result)\n",
    "    if (result==1):\n",
    "        print(\"Heavy raainfall expected .\")\n",
    "    else:\n",
    "        print(\"Low rainfall is expected\")\n",
    "    return (REGION, YEAR) \n",
    "\n",
    "\n",
    "\n",
    "w=interactive(userinput, REGION=df2.SUBDIVISION.unique(), YEAR=sorted(df3.YEAR.unique()));\n",
    "display(w)"
   ]
  },
  {
   "cell_type": "markdown",
   "metadata": {},
   "source": [
    "## Feature importance for Random Forest Classifier"
   ]
  },
  {
   "cell_type": "code",
   "execution_count": 43,
   "metadata": {},
   "outputs": [],
   "source": [
    " #Calculate feature importances\n",
    "importances = model.feature_importances_\n",
    "# Sort feature importances in descending order\n",
    "indices = np.argsort(importances)[::-1]"
   ]
  },
  {
   "cell_type": "code",
   "execution_count": 44,
   "metadata": {},
   "outputs": [],
   "source": [
    "names = [X_train.columns[i] for i in indices]\n"
   ]
  },
  {
   "cell_type": "code",
   "execution_count": 45,
   "metadata": {},
   "outputs": [
    {
     "data": {
      "image/png": "[encoded data removed]",
      "text/plain": [
       "<Figure size 1080x1080 with 1 Axes>"
      ]
     },
     "metadata": {},
     "output_type": "display_data"
    }
   ],
   "source": [
    "# Barplot: Add bars\n",
    "plt.bar(range(X.shape[1]), importances[indices])\n",
    "# Add feature names as x-axis labels\n",
    "plt.xticks(range(X.shape[1]), names, rotation=20, fontsize = 8)\n",
    "# Create plot title\n",
    "plt.title(\"Feature Importance\")\n",
    "# Show plot\n",
    "plt.show()"
   ]
  },
  {
   "cell_type": "code",
   "execution_count": null,
   "metadata": {},
   "outputs": [],
   "source": []
  }
 ],
 "metadata": {
  "kernelspec": {
   "display_name": "Python 3",
   "language": "python",
   "name": "python3"
  },
  "language_info": {
   "codemirror_mode": {
    "name": "ipython",
    "version": 3
   },
   "file_extension": ".py",
   "mimetype": "text/x-python",
   "name": "python",
   "nbconvert_exporter": "python",
   "pygments_lexer": "ipython3",
   "version": "3.7.4"
  }
 },
 "nbformat": 4,
 "nbformat_minor": 2
}
